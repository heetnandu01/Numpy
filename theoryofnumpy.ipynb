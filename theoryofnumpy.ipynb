{
 "cells": [
  {
   "cell_type": "markdown",
   "id": "d80164cb",
   "metadata": {},
   "source": [
    "# learning of Numpy (refer to freecodecamp youtube channel )"
   ]
  },
  {
   "cell_type": "markdown",
   "id": "74ca1c1e",
   "metadata": {},
   "source": [
    "# what is numpy?\n",
    "-> NumPy (pronounced /ˈnʌmpaɪ/ NUM-py) is a library for the Python programming language, adding support for large, multi-dimensional arrays and matrices, along with a large collection of high-level mathematical functions to operate on these arrays."
   ]
  },
  {
   "cell_type": "markdown",
   "id": "ee914a60",
   "metadata": {},
   "source": [
    "# how are list different in Numpy?\n",
    " -> list are very slow\n",
    " -> numpy is very fast"
   ]
  },
  {
   "cell_type": "markdown",
   "id": "bd767c56",
   "metadata": {},
   "source": [
    "# Why is numpy faster\n",
    "-> because it has a fixed type\n",
    "-> faster to read less bytes of memory\n",
    "-> no type checking when iterating through onbjects\n",
    "-> numpy has contigous memory\n",
    "(In NumPy, contiguous memory refers to how the elements of an array are stored in the computer's memory. Specifically, it means that the elements of the array are stored in a single, continuous block of memory without any gaps between them)\n",
    "# benfits of contigous memory\n",
    "-> simd (single instruction  multiple data) vector processing\n",
    "-> Effective cache utilization"
   ]
  },
  {
   "cell_type": "markdown",
   "id": "8656813a",
   "metadata": {},
   "source": [
    "# list and numpy\n",
    "# list:\n",
    "-> In list we can do insertion,deletion,appending and concatenation etc.\n",
    "# numpy:\n",
    "-> we can do the above things and many more "
   ]
  },
  {
   "cell_type": "markdown",
   "id": "0cff5c71",
   "metadata": {},
   "source": [
    "list:                                       numpy\n",
    "a = [1,2,3]                             a = np.array([1,2,3])\n",
    "b = [4,5,6]                             b = np.array([3,5,7])\n",
    "\n",
    "\n",
    "a * b = error                             a * b =np.array([3,10,21])"
   ]
  },
  {
   "cell_type": "markdown",
   "id": "225d9598",
   "metadata": {},
   "source": [
    "# Applications of numpy\n",
    "\n",
    "mathematics(MATLAb replacement),\n",
    "plotting(Matplotlib),\n",
    "Backend(pandas,connect 4 ,digital photography),\n",
    "Machine learning\n"
   ]
  }
 ],
 "metadata": {
  "kernelspec": {
   "display_name": "Python 3 (ipykernel)",
   "language": "python",
   "name": "python3"
  },
  "language_info": {
   "codemirror_mode": {
    "name": "ipython",
    "version": 3
   },
   "file_extension": ".py",
   "mimetype": "text/x-python",
   "name": "python",
   "nbconvert_exporter": "python",
   "pygments_lexer": "ipython3",
   "version": "3.12.4"
  }
 },
 "nbformat": 4,
 "nbformat_minor": 5
}
